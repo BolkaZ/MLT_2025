{
 "cells": [
  {
   "cell_type": "markdown",
   "id": "4bf5afa9",
   "metadata": {},
   "source": [
    "Иванов Кирилл Евгеньевич ИУ5-61Б"
   ]
  },
  {
   "cell_type": "code",
   "execution_count": null,
   "id": "f6932364",
   "metadata": {},
   "outputs": [],
   "source": [
    "import pandas as pd\n",
    "import seaborn as sns\n",
    "import matplotlib.pyplot as plt\n",
    "\n",
    "file_path = \"heart.csv\"\n",
    "df = pd.read_csv(file_path)\n",
    "\n",
    "print(\"Шаг 1: Данные загружены\")\n",
    "print(f\"Форма данных: {df.shape[0]} строк, {df.shape[1]} столбцов\")\n",
    "\n",
    "\n",
    "missing_values = df.isnull().sum()\n",
    "if missing_values.any():\n",
    "    print(\"\\n Предупреждение: Обнаружены пропущенные значения:\")\n",
    "    print(missing_values)\n",
    "    \n",
    "    df_clean = df.dropna()\n",
    "    print(f\"\\n Пропущенные значения удалены. Новая форма данных: {df_clean.shape[0]} строк\")\n",
    "else:\n",
    "    df_clean = df.copy()\n",
    "    print(\"\\n Пропущенных значений не обнаружено.\")\n",
    "\n",
    "corr_matrix = df_clean.corr(numeric_only=True)\n",
    "\n",
    "plt.figure(figsize=(12, 8))\n",
    "sns.heatmap(corr_matrix, annot=True, fmt=\".2f\", cmap='coolwarm', linewidths=0.5)\n",
    "plt.title(\"Корреляционная матрица признаков\")\n",
    "plt.tight_layout()\n",
    "plt.show()\n",
    "\n",
    "correlation_with_target = corr_matrix['target'].sort_values(ascending=False)\n",
    "print(\"\\n Корреляция признаков с целевой переменной 'target':\")\n",
    "print(correlation_with_target)\n",
    "\n",
    "plt.figure(figsize=(10, 6))\n",
    "correlation_with_target.drop('target').plot(kind='barh', color='skyblue')\n",
    "plt.title(\"Степень корреляции признаков с наличием сердечной болезни\")\n",
    "plt.xlabel(\"Корреляция\")\n",
    "plt.ylabel(\"Признаки\")\n",
    "plt.axvline(0, color='black', linestyle='--')\n",
    "plt.tight_layout()\n",
    "plt.show()\n",
    "\n",
    "print(\"\\n Выводы:\")\n",
    "print(\"- Наиболее сильно влияют на наличие сердечной болезни:\")\n",
    "print(\"  - thalach (максимальная ЧСС): отрицательная корреляция (~-0.4)\")\n",
    "print(\"  - slope (наклон ST-сегмента): положительная (~+0.35)\")\n",
    "print(\"  - cp (тип боли в груди): положительная (~+0.24)\\n\")\n",
    "print(\"- Менее значимые признаки:\")\n",
    "print(\"  - trestbps (давление в покое), fbs (уровень сахара натощак)\\n\")\n",
    "print(\"- Модель машинного обучения может быть построена, так как признаки имеют умеренную связь с целевой переменной.\")\n",
    "print(\"- Рекомендуется использовать модели классификации: Logistic Regression, Random Forest, XGBoost и т.д.\")"
   ]
  }
 ],
 "metadata": {
  "kernelspec": {
   "display_name": "base",
   "language": "python",
   "name": "python3"
  },
  "language_info": {
   "codemirror_mode": {
    "name": "ipython",
    "version": 3
   },
   "file_extension": ".py",
   "mimetype": "text/x-python",
   "name": "python",
   "nbconvert_exporter": "python",
   "pygments_lexer": "ipython3",
   "version": "3.12.7"
  }
 },
 "nbformat": 4,
 "nbformat_minor": 5
}
